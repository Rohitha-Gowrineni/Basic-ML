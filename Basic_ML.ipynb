{
  "nbformat": 4,
  "nbformat_minor": 0,
  "metadata": {
    "colab": {
      "name": "Basic ML.ipynb",
      "provenance": [],
      "authorship_tag": "ABX9TyPdCLOd+WBxHkzruUKD5sBq",
      "include_colab_link": true
    },
    "kernelspec": {
      "name": "python3",
      "display_name": "Python 3"
    },
    "language_info": {
      "name": "python"
    }
  },
  "cells": [
    {
      "cell_type": "markdown",
      "metadata": {
        "id": "view-in-github",
        "colab_type": "text"
      },
      "source": [
        "<a href=\"https://colab.research.google.com/github/Rohitha-Gowrineni/Basic-ML/blob/main/Basic_ML.ipynb\" target=\"_parent\"><img src=\"https://colab.research.google.com/assets/colab-badge.svg\" alt=\"Open In Colab\"/></a>"
      ]
    },
    {
      "cell_type": "code",
      "metadata": {
        "id": "suP5fby4UcCr"
      },
      "source": [
        "My first notebook."
      ],
      "execution_count": null,
      "outputs": []
    },
    {
      "cell_type": "markdown",
      "metadata": {
        "id": "bxOz1qHqWiS8"
      },
      "source": [
        "#Python program to print \"Hello world!\""
      ]
    },
    {
      "cell_type": "code",
      "metadata": {
        "colab": {
          "base_uri": "https://localhost:8080/"
        },
        "id": "irmLKBm8VKxJ",
        "outputId": "fbf58b2d-c444-4875-bc3f-326e7d6bee5b"
      },
      "source": [
        "print(\"Hello world!\") #Here in python we can run a simple text program using syntax print."
      ],
      "execution_count": 1,
      "outputs": [
        {
          "output_type": "stream",
          "text": [
            "Hello world!\n"
          ],
          "name": "stdout"
        }
      ]
    },
    {
      "cell_type": "markdown",
      "metadata": {
        "id": "mwIaMuBHWKj0"
      },
      "source": [
        ""
      ]
    },
    {
      "cell_type": "markdown",
      "metadata": {
        "id": "NhY-PurYWNXM"
      },
      "source": [
        "#Python program to print whether the given number is even or odd.\n"
      ]
    },
    {
      "cell_type": "code",
      "metadata": {
        "colab": {
          "base_uri": "https://localhost:8080/"
        },
        "id": "FvYnyFDYWdFM",
        "outputId": "ea416459-db7f-434b-db5f-f4f53c3382cf"
      },
      "source": [
        "n = int(input(\"Enter a number: \"))\n",
        "if (n % 2==0):\n",
        "  print(\"The number is even number.\")\n",
        "  # A number is even if it is divisible by 2 and gives remainder as 0\n",
        "else:\n",
        "  # A number is odd if it is divisible by 2 and gives remainder as 1\n",
        "  print(\"The number is odd number.\")"
      ],
      "execution_count": 3,
      "outputs": [
        {
          "output_type": "stream",
          "text": [
            "Enter a number: 22\n",
            "The number is even number.\n"
          ],
          "name": "stdout"
        }
      ]
    },
    {
      "cell_type": "markdown",
      "metadata": {
        "id": "L1L51uwCZTo0"
      },
      "source": [
        "#Python program to find the largest among three numbers."
      ]
    },
    {
      "cell_type": "code",
      "metadata": {
        "colab": {
          "base_uri": "https://localhost:8080/"
        },
        "id": "mwdjx2VhZhcR",
        "outputId": "22539e14-0946-4c60-dd66-5a62fa5df661"
      },
      "source": [
        "a = int(input(\"Enter first number: \"))\n",
        "b = int(input(\"Enter second number: \"))\n",
        "c = int(input(\"Enter third number: \"))\n",
        "if (a>b and a>c): # If a is greater than b and c then it gives a is larger number as output.\n",
        "  n = a  \n",
        "  # If a is greater than b and c then it gives a is larger number as output.\n",
        "elif (b>a and b>c):\n",
        "  n = b \n",
        "  # If b is greater than a and c then it gives b is larger number as output.\n",
        "else:\n",
        "  n = c \n",
        "  # If c is  greater then it gives c is larger number as outut.\n",
        "print(\"The largest number is\",n)"
      ],
      "execution_count": 23,
      "outputs": [
        {
          "output_type": "stream",
          "text": [
            "Enter first number: 8\n",
            "Enter second number: 14\n",
            "Enter third number: 5\n",
            "The largest number is 14\n"
          ],
          "name": "stdout"
        }
      ]
    }
  ]
}